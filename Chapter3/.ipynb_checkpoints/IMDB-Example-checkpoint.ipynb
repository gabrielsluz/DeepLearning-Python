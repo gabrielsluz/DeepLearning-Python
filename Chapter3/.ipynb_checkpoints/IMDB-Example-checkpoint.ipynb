{
 "cells": [
  {
   "cell_type": "code",
   "execution_count": 3,
   "metadata": {},
   "outputs": [],
   "source": [
    "from keras.datasets import imdb\n",
    "(train_data, train_labels), (test_data, test_labels) = imdb.load_data(\n",
    "    num_words=10000)\n"
   ]
  },
  {
   "cell_type": "code",
   "execution_count": 6,
   "metadata": {
    "collapsed": true
   },
   "outputs": [],
   "source": [
    "import numpy as np\n",
    "\n",
    "def vectorize_sequences(sequences, dimension=10000):\n",
    "    results = np.zeros((len(sequences), dimension))\n",
    "    for i, sequence_element in enumerate(sequences):\n",
    "        results[i, sequence_element] = 1.\n",
    "    return results\n",
    "\n",
    "x_train = vectorize_sequences(train_data)\n",
    "x_test = vectorize_sequences(test_data)\n",
    "\n",
    "y_train = np.asarray(train_labels).astype('float32')\n",
    "y_test = np.asarray(test_labels).astype('float32')"
   ]
  },
  {
   "cell_type": "code",
   "execution_count": 8,
   "metadata": {},
   "outputs": [],
   "source": [
    "from tensorflow.keras import models\n",
    "from tensorflow.keras import layers\n",
    "model = models.Sequential()\n",
    "model.add(layers.Dense(16, activation='relu', input_shape=(10000,)))\n",
    "model.add(layers.Dense(16, activation='relu'))\n",
    "model.add(layers.Dense(1, activation='sigmoid'))"
   ]
  },
  {
   "cell_type": "code",
   "execution_count": 9,
   "metadata": {
    "collapsed": true
   },
   "outputs": [],
   "source": [
    "model.compile(optimizer='rmsprop',\n",
    "                      loss='binary_crossentropy',\n",
    "                      metrics=['accuracy'])"
   ]
  },
  {
   "cell_type": "code",
   "execution_count": 11,
   "metadata": {},
   "outputs": [],
   "source": [
    "x_val = x_train[:10000]\n",
    "partial_x_train = x_train[10000:]"
   ]
  },
  {
   "cell_type": "code",
   "execution_count": 12,
   "metadata": {
    "collapsed": true
   },
   "outputs": [],
   "source": [
    "y_val = y_train[:10000]\n",
    "partial_y_train = y_train[10000:]"
   ]
  },
  {
   "cell_type": "code",
   "execution_count": 13,
   "metadata": {},
   "outputs": [
    {
     "name": "stderr",
     "output_type": "stream",
     "text": [
      "WARNING: Logging before flag parsing goes to stderr.\n",
      "W0708 13:14:19.858704 140736017658688 deprecation.py:323] From /Users/zeba/anaconda/lib/python3.6/site-packages/tensorflow/python/ops/math_grad.py:1250: add_dispatch_support.<locals>.wrapper (from tensorflow.python.ops.array_ops) is deprecated and will be removed in a future version.\n",
      "Instructions for updating:\n",
      "Use tf.where in 2.0, which has the same broadcast rule as np.where\n"
     ]
    },
    {
     "name": "stdout",
     "output_type": "stream",
     "text": [
      "Train on 15000 samples, validate on 10000 samples\n",
      "Epoch 1/20\n",
      "15000/15000 [==============================] - 4s 254us/sample - loss: 0.4877 - acc: 0.7923 - val_loss: 0.3625 - val_acc: 0.8722\n",
      "Epoch 2/20\n",
      "15000/15000 [==============================] - 2s 126us/sample - loss: 0.2793 - acc: 0.9085 - val_loss: 0.3056 - val_acc: 0.8806\n",
      "Epoch 3/20\n",
      "15000/15000 [==============================] - 2s 117us/sample - loss: 0.2076 - acc: 0.9288 - val_loss: 0.2747 - val_acc: 0.8911\n",
      "Epoch 4/20\n",
      "15000/15000 [==============================] - 2s 127us/sample - loss: 0.1663 - acc: 0.9449 - val_loss: 0.2779 - val_acc: 0.8891\n",
      "Epoch 5/20\n",
      "15000/15000 [==============================] - 2s 142us/sample - loss: 0.1307 - acc: 0.9583 - val_loss: 0.3475 - val_acc: 0.8695\n",
      "Epoch 6/20\n",
      "15000/15000 [==============================] - 2s 116us/sample - loss: 0.1085 - acc: 0.9676 - val_loss: 0.3006 - val_acc: 0.8846\n",
      "Epoch 7/20\n",
      "15000/15000 [==============================] - 2s 117us/sample - loss: 0.0914 - acc: 0.9737 - val_loss: 0.3195 - val_acc: 0.8833\n",
      "Epoch 8/20\n",
      "15000/15000 [==============================] - 2s 116us/sample - loss: 0.0710 - acc: 0.9819 - val_loss: 0.3418 - val_acc: 0.8804\n",
      "Epoch 9/20\n",
      "15000/15000 [==============================] - 2s 124us/sample - loss: 0.0598 - acc: 0.9850 - val_loss: 0.3698 - val_acc: 0.8795\n",
      "Epoch 10/20\n",
      "15000/15000 [==============================] - 2s 125us/sample - loss: 0.0494 - acc: 0.9869 - val_loss: 0.3891 - val_acc: 0.8779\n",
      "Epoch 11/20\n",
      "15000/15000 [==============================] - 2s 121us/sample - loss: 0.0360 - acc: 0.9929 - val_loss: 0.4932 - val_acc: 0.8560\n",
      "Epoch 12/20\n",
      "15000/15000 [==============================] - 2s 129us/sample - loss: 0.0299 - acc: 0.9954 - val_loss: 0.4459 - val_acc: 0.8744\n",
      "Epoch 13/20\n",
      "15000/15000 [==============================] - 2s 123us/sample - loss: 0.0271 - acc: 0.9938 - val_loss: 0.4752 - val_acc: 0.8733\n",
      "Epoch 14/20\n",
      "15000/15000 [==============================] - 2s 117us/sample - loss: 0.0154 - acc: 0.9984 - val_loss: 0.5234 - val_acc: 0.8629\n",
      "Epoch 15/20\n",
      "15000/15000 [==============================] - 2s 117us/sample - loss: 0.0177 - acc: 0.9970 - val_loss: 0.5334 - val_acc: 0.8704\n",
      "Epoch 16/20\n",
      "15000/15000 [==============================] - 2s 119us/sample - loss: 0.0149 - acc: 0.9967 - val_loss: 0.5624 - val_acc: 0.8703\n",
      "Epoch 17/20\n",
      "15000/15000 [==============================] - 2s 122us/sample - loss: 0.0070 - acc: 0.9997 - val_loss: 0.6076 - val_acc: 0.8630\n",
      "Epoch 18/20\n",
      "15000/15000 [==============================] - 2s 138us/sample - loss: 0.0117 - acc: 0.9979 - val_loss: 0.6241 - val_acc: 0.8666\n",
      "Epoch 19/20\n",
      "15000/15000 [==============================] - 2s 122us/sample - loss: 0.0039 - acc: 0.9999 - val_loss: 0.6762 - val_acc: 0.8674\n",
      "Epoch 20/20\n",
      "15000/15000 [==============================] - 2s 130us/sample - loss: 0.0083 - acc: 0.9983 - val_loss: 0.6801 - val_acc: 0.8660\n"
     ]
    }
   ],
   "source": [
    "model.compile(optimizer='rmsprop',\n",
    "              loss='binary_crossentropy',\n",
    "              metrics=['acc'])\n",
    "history = model.fit(partial_x_train,\n",
    "                    partial_y_train,\n",
    "                    epochs=20,\n",
    "                    batch_size=512,\n",
    "                    validation_data=(x_val, y_val))"
   ]
  },
  {
   "cell_type": "code",
   "execution_count": 15,
   "metadata": {},
   "outputs": [
    {
     "data": {
      "text/plain": [
       "dict_keys(['loss', 'acc', 'val_loss', 'val_acc'])"
      ]
     },
     "execution_count": 15,
     "metadata": {},
     "output_type": "execute_result"
    }
   ],
   "source": [
    "history_dict = history.history\n",
    "history_dict.keys()"
   ]
  },
  {
   "cell_type": "code",
   "execution_count": 19,
   "metadata": {},
   "outputs": [
    {
     "data": {
      "image/png": "[encoded data removed]",
      "text/plain": [
       "<matplotlib.figure.Figure at 0x136334e10>"
      ]
     },
     "metadata": {},
     "output_type": "display_data"
    }
   ],
   "source": [
    "import matplotlib.pyplot as plt\n",
    "\n",
    "history_dict = history.history\n",
    "loss_values = history_dict['loss']\n",
    "val_loss_values = history_dict['val_loss']\n",
    "epochs = range(1, len(history_dict['acc']) + 1)\n",
    "\n",
    "plt.plot(epochs, loss_values, 'bo', label='Training loss')\n",
    "plt.plot(epochs, val_loss_values, 'b', label='Validation loss')\n",
    "plt.title('Training and validation loss')\n",
    "plt.xlabel('Epochs')\n",
    "plt.ylabel('Loss')\n",
    "plt.legend()\n",
    "\n",
    "plt.show()"
   ]
  },
  {
   "cell_type": "code",
   "execution_count": 22,
   "metadata": {},
   "outputs": [
    {
     "data": {
      "image/png": "[encoded data removed]",
      "text/plain": [
       "<matplotlib.figure.Figure at 0x12dc0fda0>"
      ]
     },
     "metadata": {},
     "output_type": "display_data"
    }
   ],
   "source": [
    "acc_values = history_dict['acc'] \n",
    "val_acc_values = history_dict['val_acc']\n",
    "plt.plot(epochs, history_dict['acc'], 'bo', label='Training acc')\n",
    "plt.plot(epochs, history_dict['val_acc'], 'b', label='Validation acc')\n",
    "plt.title('Training and validation accuracy')\n",
    "plt.xlabel('Epochs')\n",
    "plt.ylabel('Loss')\n",
    "plt.legend()\n",
    "plt.show()"
   ]
  },
  {
   "cell_type": "code",
   "execution_count": 23,
   "metadata": {},
   "outputs": [
    {
     "name": "stdout",
     "output_type": "stream",
     "text": [
      "Train on 25000 samples\n",
      "Epoch 1/4\n",
      "25000/25000 [==============================] - 2s 94us/sample - loss: 0.4727 - accuracy: 0.8069\n",
      "Epoch 2/4\n",
      "25000/25000 [==============================] - 2s 84us/sample - loss: 0.2663 - accuracy: 0.9083\n",
      "Epoch 3/4\n",
      "25000/25000 [==============================] - 2s 82us/sample - loss: 0.2053 - accuracy: 0.9274\n",
      "Epoch 4/4\n",
      "25000/25000 [==============================] - 2s 81us/sample - loss: 0.1705 - accuracy: 0.9394\n",
      "25000/25000 [==============================] - 5s 182us/sample - loss: 0.2905 - accuracy: 0.8851\n"
     ]
    }
   ],
   "source": [
    "model = models.Sequential()\n",
    "model.add(layers.Dense(16, activation='relu', input_shape=(10000,)))\n",
    "model.add(layers.Dense(16, activation='relu'))\n",
    "model.add(layers.Dense(1, activation='sigmoid'))\n",
    "model.compile(optimizer='rmsprop',\n",
    "              loss='binary_crossentropy',\n",
    "              metrics=['accuracy'])\n",
    "model.fit(x_train, y_train, epochs=4, batch_size=512)\n",
    "results = model.evaluate(x_test, y_test)"
   ]
  },
  {
   "cell_type": "code",
   "execution_count": 24,
   "metadata": {},
   "outputs": [
    {
     "data": {
      "text/plain": [
       "[0.29046058468818664, 0.88508]"
      ]
     },
     "execution_count": 24,
     "metadata": {},
     "output_type": "execute_result"
    }
   ],
   "source": [
    "results"
   ]
  },
  {
   "cell_type": "code",
   "execution_count": null,
   "metadata": {
    "collapsed": true
   },
   "outputs": [],
   "source": []
  }
 ],
 "metadata": {
  "kernelspec": {
   "display_name": "Python 3",
   "language": "python",
   "name": "python3"
  },
  "language_info": {
   "codemirror_mode": {
    "name": "ipython",
    "version": 3
   },
   "file_extension": ".py",
   "mimetype": "text/x-python",
   "name": "python",
   "nbconvert_exporter": "python",
   "pygments_lexer": "ipython3",
   "version": "3.6.1"
  }
 },
 "nbformat": 4,
 "nbformat_minor": 2
}
